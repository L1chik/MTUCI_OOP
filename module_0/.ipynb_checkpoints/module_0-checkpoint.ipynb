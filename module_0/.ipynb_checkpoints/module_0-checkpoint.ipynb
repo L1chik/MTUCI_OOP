{
 "cells": [
  {
   "cell_type": "code",
   "execution_count": 2,
   "metadata": {},
   "outputs": [],
   "source": [
    "import numpy as np"
   ]
  },
  {
   "cell_type": "code",
   "execution_count": 11,
   "metadata": {},
   "outputs": [
    {
     "name": "stdout",
     "output_type": "stream",
     "text": [
      "Ваш алгоритм угадывает число в среднем за 6 попыток\n"
     ]
    },
    {
     "data": {
      "text/plain": [
       "6"
      ]
     },
     "execution_count": 11,
     "metadata": {},
     "output_type": "execute_result"
    }
   ],
   "source": [
    "def numberof_tries(awesome_game):\n",
    "    # Объявление переменных и создание массива с 1000 случайных чисел\n",
    "    average = []\n",
    "    np.random.seed(1)\n",
    "    random_list = [np.random.randint(1,101) for x in range(1000)]\n",
    "    \n",
    "    # Запись количества попыток в массив average и поиск среднего значения\n",
    "    for num in random_list:\n",
    "        average.append(awesome_game(num))\n",
    "    score = int(np.mean(average))\n",
    "    \n",
    "    print(\"Ваш алгоритм угадывает число в среднем за {} попыток\".format(score))\n",
    "    return score\n",
    "\n",
    "\n",
    "def awesome_game(number):\n",
    "    count = 0\n",
    "    left, right = 1, 101\n",
    "    predict = np.random.randint(left,right)\n",
    "    \n",
    "    # Изменение диапазона поиска числа и подсчет количества попыток\n",
    "    while number != predict:\n",
    "        if number < predict:\n",
    "            right = predict\n",
    "        if number > predict:\n",
    "            left = predict + 1\n",
    "        count += 1\n",
    "        predict = np.random.randint(left, right)\n",
    "        \n",
    "    return count\n",
    "\n",
    "\n",
    "numberof_tries(awesome_game)"
   ]
  },
  {
   "cell_type": "code",
   "execution_count": null,
   "metadata": {},
   "outputs": [],
   "source": []
  }
 ],
 "metadata": {
  "kernelspec": {
   "display_name": "Python 3",
   "language": "python",
   "name": "python3"
  },
  "language_info": {
   "codemirror_mode": {
    "name": "ipython",
    "version": 3
   },
   "file_extension": ".py",
   "mimetype": "text/x-python",
   "name": "python",
   "nbconvert_exporter": "python",
   "pygments_lexer": "ipython3",
   "version": "3.8.3"
  }
 },
 "nbformat": 4,
 "nbformat_minor": 4
}
